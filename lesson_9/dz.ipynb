{
 "cells": [
  {
   "cell_type": "code",
   "execution_count": 21,
   "metadata": {},
   "outputs": [
    {
     "data": {
      "text/plain": [
       "4.0"
      ]
     },
     "execution_count": 21,
     "metadata": {},
     "output_type": "execute_result"
    }
   ],
   "source": [
    "import pandas as pd\n",
    "df = pd.read_csv('sample_data/california_housing_train.csv')\n",
    "df.head()\n",
    "df.loc[(df['population'] > 0) & (df['population'] < 500) , 'median_house_value']\n",
    "am = df['population'].min()\n",
    "df[df['population'] == am]['households'].max()\n"
   ]
  }
 ],
 "metadata": {
  "kernelspec": {
   "display_name": ".folder",
   "language": "python",
   "name": "python3"
  },
  "language_info": {
   "codemirror_mode": {
    "name": "ipython",
    "version": 3
   },
   "file_extension": ".py",
   "mimetype": "text/x-python",
   "name": "python",
   "nbconvert_exporter": "python",
   "pygments_lexer": "ipython3",
   "version": "3.10.11"
  },
  "orig_nbformat": 4,
  "vscode": {
   "interpreter": {
    "hash": "4d33150704ea2e92de25fe7d3b5a5c8d6b14df44f7f72a86962670c9f9e58b57"
   }
  }
 },
 "nbformat": 4,
 "nbformat_minor": 2
}
